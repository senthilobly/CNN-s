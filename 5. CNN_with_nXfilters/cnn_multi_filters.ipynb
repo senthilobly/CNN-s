{
  "nbformat": 4,
  "nbformat_minor": 0,
  "metadata": {
    "colab": {
      "provenance": []
    },
    "kernelspec": {
      "name": "python3",
      "display_name": "Python 3"
    },
    "language_info": {
      "name": "python"
    }
  },
  "cells": [
    {
      "cell_type": "code",
      "source": [
        "# CNN network with multiple kernel filters on same input\n",
        "import numpy as np\n",
        "input = np.random.randn(6,6)\n",
        "kernel = np.random.randn(3,3,3)\n",
        "stride = 1\n",
        "num_filters, height, width = kernel.shape\n",
        "h,w = ((np.subtract(input.shape, kernel[0].shape))//stride) + 1\n",
        "output = np.zeros((3,h,w)) # 3 refers to the depth of kernel 3x3x3\n",
        "def convolve_2d(input, kernel):\n",
        "  for k in range(num_filters):\n",
        "    kernel_selected = kernel[k]\n",
        "    for i in range(output.shape[0]):\n",
        "      for j in range(output.shape[0]):\n",
        "        region = input[i:i+height, j:j+width]\n",
        "        output[k,i,j] = np.sum(region * kernel_selected)\n",
        "    print(\"\\nKernel {} Output:\\n {}\".format(k,output))\n",
        "cnn = convolve_2d(input, kernel)\n"
      ],
      "metadata": {
        "colab": {
          "base_uri": "https://localhost:8080/"
        },
        "id": "xoCtDGTqZE_4",
        "outputId": "5df450b6-2edf-47ca-808f-9f81f3a89cd4"
      },
      "execution_count": 53,
      "outputs": [
        {
          "output_type": "stream",
          "name": "stdout",
          "text": [
            "\n",
            "Kernel 0 Output:\n",
            " [[[-0.4138027   2.85756953 -2.15535485  0.        ]\n",
            "  [ 1.01474197 -4.10716931  2.74227894  0.        ]\n",
            "  [ 0.76608227  6.6334707   3.30362681  0.        ]\n",
            "  [ 0.          0.          0.          0.        ]]\n",
            "\n",
            " [[ 0.          0.          0.          0.        ]\n",
            "  [ 0.          0.          0.          0.        ]\n",
            "  [ 0.          0.          0.          0.        ]\n",
            "  [ 0.          0.          0.          0.        ]]\n",
            "\n",
            " [[ 0.          0.          0.          0.        ]\n",
            "  [ 0.          0.          0.          0.        ]\n",
            "  [ 0.          0.          0.          0.        ]\n",
            "  [ 0.          0.          0.          0.        ]]]\n",
            "\n",
            "Kernel 1 Output:\n",
            " [[[-0.4138027   2.85756953 -2.15535485  0.        ]\n",
            "  [ 1.01474197 -4.10716931  2.74227894  0.        ]\n",
            "  [ 0.76608227  6.6334707   3.30362681  0.        ]\n",
            "  [ 0.          0.          0.          0.        ]]\n",
            "\n",
            " [[ 3.81656968 -0.5503208   0.95450924  0.        ]\n",
            "  [-1.71371156  0.73130907 -1.28199801  0.        ]\n",
            "  [-0.57480937 -0.61693585 -2.52269503  0.        ]\n",
            "  [ 0.          0.          0.          0.        ]]\n",
            "\n",
            " [[ 0.          0.          0.          0.        ]\n",
            "  [ 0.          0.          0.          0.        ]\n",
            "  [ 0.          0.          0.          0.        ]\n",
            "  [ 0.          0.          0.          0.        ]]]\n",
            "\n",
            "Kernel 2 Output:\n",
            " [[[-0.4138027   2.85756953 -2.15535485  0.        ]\n",
            "  [ 1.01474197 -4.10716931  2.74227894  0.        ]\n",
            "  [ 0.76608227  6.6334707   3.30362681  0.        ]\n",
            "  [ 0.          0.          0.          0.        ]]\n",
            "\n",
            " [[ 3.81656968 -0.5503208   0.95450924  0.        ]\n",
            "  [-1.71371156  0.73130907 -1.28199801  0.        ]\n",
            "  [-0.57480937 -0.61693585 -2.52269503  0.        ]\n",
            "  [ 0.          0.          0.          0.        ]]\n",
            "\n",
            " [[-4.7673338   0.82369622 -1.75445919  0.        ]\n",
            "  [ 2.72295314  2.65697136  4.45260731  0.        ]\n",
            "  [-2.35410166 -6.95868295 -3.96913223  0.        ]\n",
            "  [ 0.          0.          0.          0.        ]]]\n"
          ]
        }
      ]
    }
  ]
}