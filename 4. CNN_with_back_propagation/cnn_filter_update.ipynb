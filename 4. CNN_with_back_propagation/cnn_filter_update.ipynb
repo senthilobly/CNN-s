{
  "nbformat": 4,
  "nbformat_minor": 0,
  "metadata": {
    "colab": {
      "provenance": []
    },
    "kernelspec": {
      "name": "python3",
      "display_name": "Python 3"
    },
    "language_info": {
      "name": "python"
    }
  },
  "cells": [
    {
      "cell_type": "code",
      "source": [
        "# CNN network with Simple Back Propagation to update Kernel weights\n",
        "import numpy as np\n",
        "\n",
        "input_image = np.array([\n",
        "    [1, 2, 0, 3, 1, 2],\n",
        "    [4, 5, 1, 0, 2, 3],\n",
        "    [1, 0, 2, 4, 1, 0],\n",
        "    [3, 1, 2, 1, 5, 2],\n",
        "    [2, 4, 0, 2, 3, 1],\n",
        "    [1, 3, 2, 0, 1, 4]\n",
        "])\n",
        "filter_kernel = np.array([\n",
        "    [0.1, 0.2, -0.1],\n",
        "    [0.0, 0.1, 0.2],\n",
        "    [0.05, -0.2, 0.1]\n",
        "])\n",
        "\n",
        "# Hyper parameters\n",
        "stride = 1\n",
        "padding = 0\n",
        "learning_rate = 0.01\n",
        "feature_map_h = (((input_image.shape[0]-filter_kernel.shape[0])+(2*padding))//stride)+1\n",
        "feature_map_w = (((input_image.shape[1]-filter_kernel.shape[1])+(2*padding))//stride)+1\n",
        "target_output = np.ones((feature_map_h, feature_map_w)) # Dummy target output of same shape as the feature map\n",
        "predicted_output = np.zeros((feature_map_h, feature_map_w))\n",
        "filter_gradient = np.zeros_like(filter_kernel)\n",
        "for i in range(target_output.shape[0]):\n",
        "  for j in range(target_output.shape[1]):\n",
        "    region = input_image[i:i+filter_kernel.shape[0], j:j+filter_kernel.shape[1]]\n",
        "    predicted_output[i,j] = np.sum(region * filter_kernel)\n",
        "\n",
        "# Compute the loss using Predicted and Target output using MSE calculation\n",
        "#MSE = 1/n sum((target-predicted)**2)\n",
        "# n = no of Datapoints, For 4x4 output it will have 16 datapoints\n",
        "# sum = sum of all data points\n",
        "loss = np.mean((target_output - predicted_output)**2)\n",
        "print(\"\\nPredicted Output:\\n\", predicted_output)\n",
        "print(\"\\nTarget Output:\\n\", target_output)\n",
        "print(\"\\nLoss:\", loss)\n",
        "\n",
        "# Backward Propagation to update the kernel weights\n",
        "# Compute Gradient (Chain Rule)\n",
        "\n",
        "# This is the derivative of the loss with respect to the predicted output.\n",
        "#dLoss / dFilter = dLoss/dPred * dPred/dFilter\n",
        "#dLoss/dPred = loss calculated using MSE\n",
        "#dpred/dFilter = Value from input at that position\n",
        "# Derivative formula (Basic Calculus ) w.r.t MSE formula = 2/n(predicted-true)\n",
        "#updated_filter = old_filter - 0.01 * (predicted - true) * corresponding_input_region\n",
        "n = target_output.size\n",
        "dL_dO = (2 / n) * (predicted_output - target_output)\n",
        "for i in range(dL_dO.shape[0]):\n",
        "  for j in range(dL_dO.shape[1]):\n",
        "     region = input_image[i:i+3, j:j+3]\n",
        "     filter_gradient += dL_dO[i,j] * region # Chain rule: dL/dW = dL/dO * dO/dW\n",
        "\n",
        "filter_kernel_updated = filter_kernel - learning_rate * filter_gradient\n",
        "\n",
        "print(\"\\nGradient of Filter:\\n\", filter_gradient)\n",
        "print(\"\\nUpdated Filter Weights:\\n\", filter_kernel_updated)\n",
        "\n",
        "\n",
        "\n",
        "\n",
        "\n"
      ],
      "metadata": {
        "colab": {
          "base_uri": "https://localhost:8080/"
        },
        "id": "xoCtDGTqZE_4",
        "outputId": "83e17417-18e4-4025-b698-49862a4a53f4"
      },
      "execution_count": 16,
      "outputs": [
        {
          "output_type": "stream",
          "name": "stdout",
          "text": [
            "\n",
            "Predicted Output:\n",
            " [[ 1.45000000e+00 -5.55111512e-17  3.00000000e-01  1.10000000e+00]\n",
            " [ 1.85000000e+00  1.45000000e+00  9.00000000e-01 -5.50000000e-01]\n",
            " [-3.00000000e-01  8.00000000e-01  1.90000000e+00  1.10000000e+00]\n",
            " [ 3.50000000e-01  5.50000000e-01  9.00000000e-01  1.60000000e+00]]\n",
            "\n",
            "Target Output:\n",
            " [[1. 1. 1. 1.]\n",
            " [1. 1. 1. 1.]\n",
            " [1. 1. 1. 1.]\n",
            " [1. 1. 1. 1.]]\n",
            "\n",
            "Loss: 0.5365625\n",
            "\n",
            "Gradient of Filter:\n",
            " [[ 0.4      0.64375 -1.38125]\n",
            " [-1.69375 -0.1125   0.50625]\n",
            " [-0.5875  -2.01875 -0.23125]]\n",
            "\n",
            "Updated Filter Weights:\n",
            " [[ 0.096      0.1935625 -0.0861875]\n",
            " [ 0.0169375  0.101125   0.1949375]\n",
            " [ 0.055875  -0.1798125  0.1023125]]\n"
          ]
        }
      ]
    }
  ]
}